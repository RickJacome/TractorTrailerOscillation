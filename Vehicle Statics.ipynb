{
 "cells": [
  {
   "cell_type": "code",
   "execution_count": 1,
   "id": "a3d017c0",
   "metadata": {},
   "outputs": [],
   "source": [
    "from sympy import symbols, Eq, solve, expand, simplify"
   ]
  },
  {
   "cell_type": "code",
   "execution_count": 2,
   "id": "b049e121",
   "metadata": {},
   "outputs": [],
   "source": [
    "Fx1, Fx2, Fz1, Fz2, = symbols('F_{x1} F_{x2} F_{z1} F_{z2}')\n",
    "L, a, b, hcg = symbols('L, a, b, h_{cg}')\n",
    "m, G = symbols('m, G')\n",
    "ax = symbols('a_{x}')"
   ]
  },
  {
   "cell_type": "markdown",
   "id": "de7663e2",
   "metadata": {},
   "source": [
    "1 == Front Combined Load <br>\n",
    "2 == Rear Combined Load"
   ]
  },
  {
   "cell_type": "code",
   "execution_count": 3,
   "id": "3a96e1f3",
   "metadata": {},
   "outputs": [
    {
     "data": {
      "text/latex": [
       "$\\displaystyle F_{z1} + F_{z2} - G m = 0$"
      ],
      "text/plain": [
       "Eq(F_{z1} + F_{z2} - G*m, 0)"
      ]
     },
     "execution_count": 3,
     "metadata": {},
     "output_type": "execute_result"
    }
   ],
   "source": [
    "# Vertical Forces\n",
    "eq1 = Eq(Fz1 + Fz2 -  m*G, 0)\n",
    "eq1"
   ]
  },
  {
   "cell_type": "code",
   "execution_count": 4,
   "id": "59a85c32",
   "metadata": {},
   "outputs": [
    {
     "data": {
      "text/latex": [
       "$\\displaystyle - F_{z2} L + G a m = 0$"
      ],
      "text/plain": [
       "Eq(-F_{z2}*L + G*a*m, 0)"
      ]
     },
     "execution_count": 4,
     "metadata": {},
     "output_type": "execute_result"
    }
   ],
   "source": [
    "# Moments about point of contact for Fz1\n",
    "eq2 = Eq( - Fz2*L +  a*m*G, 0)\n",
    "eq2"
   ]
  },
  {
   "cell_type": "code",
   "execution_count": 5,
   "id": "4ddd3bb0",
   "metadata": {},
   "outputs": [],
   "source": [
    "solutions = solve([eq1, eq2], [Fz1, Fz2])"
   ]
  },
  {
   "cell_type": "code",
   "execution_count": 6,
   "id": "d7f92b49",
   "metadata": {},
   "outputs": [
    {
     "data": {
      "text/latex": [
       "$\\displaystyle G m - \\frac{G a m}{L}$"
      ],
      "text/plain": [
       "G*m - G*a*m/L"
      ]
     },
     "execution_count": 6,
     "metadata": {},
     "output_type": "execute_result"
    }
   ],
   "source": [
    "# Front Load Combined\n",
    "expand(solutions[Fz1])"
   ]
  },
  {
   "cell_type": "code",
   "execution_count": 7,
   "id": "a657c23c",
   "metadata": {},
   "outputs": [
    {
     "data": {
      "text/latex": [
       "$\\displaystyle \\frac{G L m - G a m}{2 L}$"
      ],
      "text/plain": [
       "(G*L*m - G*a*m)/(2*L)"
      ]
     },
     "execution_count": 7,
     "metadata": {},
     "output_type": "execute_result"
    }
   ],
   "source": [
    "F_RF = solutions[Fz1]/2\n",
    "F_RF"
   ]
  },
  {
   "cell_type": "code",
   "execution_count": 8,
   "id": "d0a70185",
   "metadata": {},
   "outputs": [
    {
     "data": {
      "text/latex": [
       "$\\displaystyle \\frac{G L m - G a m}{2 L}$"
      ],
      "text/plain": [
       "(G*L*m - G*a*m)/(2*L)"
      ]
     },
     "execution_count": 8,
     "metadata": {},
     "output_type": "execute_result"
    }
   ],
   "source": [
    "F_LF = solutions[Fz1]/2\n",
    "F_LF"
   ]
  },
  {
   "cell_type": "code",
   "execution_count": 9,
   "id": "36782341",
   "metadata": {},
   "outputs": [
    {
     "data": {
      "text/latex": [
       "$\\displaystyle \\frac{G a m}{L}$"
      ],
      "text/plain": [
       "G*a*m/L"
      ]
     },
     "execution_count": 9,
     "metadata": {},
     "output_type": "execute_result"
    }
   ],
   "source": [
    "# Rear Load Combined\n",
    "solutions[Fz2]"
   ]
  },
  {
   "cell_type": "code",
   "execution_count": 10,
   "id": "8bbe11c9",
   "metadata": {},
   "outputs": [
    {
     "data": {
      "text/latex": [
       "$\\displaystyle \\frac{G a m}{2 L}$"
      ],
      "text/plain": [
       "G*a*m/(2*L)"
      ]
     },
     "execution_count": 10,
     "metadata": {},
     "output_type": "execute_result"
    }
   ],
   "source": [
    "F_RR = solutions[Fz2]/2\n",
    "F_RR"
   ]
  },
  {
   "cell_type": "code",
   "execution_count": 11,
   "id": "9730a989",
   "metadata": {},
   "outputs": [
    {
     "data": {
      "text/latex": [
       "$\\displaystyle \\frac{G a m}{2 L}$"
      ],
      "text/plain": [
       "G*a*m/(2*L)"
      ]
     },
     "execution_count": 11,
     "metadata": {},
     "output_type": "execute_result"
    }
   ],
   "source": [
    "F_LR = solutions[Fz2]/2\n",
    "F_LR"
   ]
  },
  {
   "cell_type": "markdown",
   "id": "a2f47816",
   "metadata": {},
   "source": [
    "Dynamic Case"
   ]
  },
  {
   "cell_type": "code",
   "execution_count": 12,
   "id": "9b839392",
   "metadata": {},
   "outputs": [
    {
     "data": {
      "text/latex": [
       "$\\displaystyle F_{x1} + F_{x2} = a_{x} m$"
      ],
      "text/plain": [
       "Eq(F_{x1} + F_{x2}, a_{x}*m)"
      ]
     },
     "execution_count": 12,
     "metadata": {},
     "output_type": "execute_result"
    }
   ],
   "source": [
    "# Horizontal Forces\n",
    "eq3 = Eq(Fx1 + Fx2 ,  m*ax)\n",
    "eq3"
   ]
  },
  {
   "cell_type": "code",
   "execution_count": 13,
   "id": "ffca97d7",
   "metadata": {},
   "outputs": [
    {
     "data": {
      "text/latex": [
       "$\\displaystyle - F_{z2} L + G a m = - a_{x} h_{cg} m$"
      ],
      "text/plain": [
       "Eq(-F_{z2}*L + G*a*m, -a_{x}*h_{cg}*m)"
      ]
     },
     "execution_count": 13,
     "metadata": {},
     "output_type": "execute_result"
    }
   ],
   "source": [
    "# Moments about point of contact for Fz1,  CW positive\n",
    "eq4 = Eq( - Fz2*L +  a*m*G, -m*ax*hcg)\n",
    "eq4"
   ]
  },
  {
   "cell_type": "code",
   "execution_count": 14,
   "id": "8e8ca5e4",
   "metadata": {},
   "outputs": [],
   "source": [
    "# For now We are saying that the horizontal forces are equal to each other\n",
    "eq5 = Eq(Fx1 , Fx2)"
   ]
  },
  {
   "cell_type": "code",
   "execution_count": 15,
   "id": "059a5396",
   "metadata": {},
   "outputs": [],
   "source": [
    "sol = solve([eq1, eq3, eq4, eq5], [Fz1, Fz2,Fx1,Fx2])"
   ]
  },
  {
   "cell_type": "code",
   "execution_count": 16,
   "id": "361b4a86",
   "metadata": {},
   "outputs": [
    {
     "data": {
      "text/plain": [
       "{F_{z1}: (G*L*m - G*a*m - a_{x}*h_{cg}*m)/L,\n",
       " F_{z2}: (G*a*m + a_{x}*h_{cg}*m)/L,\n",
       " F_{x1}: a_{x}*m/2,\n",
       " F_{x2}: a_{x}*m/2}"
      ]
     },
     "execution_count": 16,
     "metadata": {},
     "output_type": "execute_result"
    }
   ],
   "source": [
    "sol"
   ]
  },
  {
   "cell_type": "code",
   "execution_count": 17,
   "id": "5f10f812",
   "metadata": {},
   "outputs": [],
   "source": [
    "Fz_RF = sol[Fz1]/2\n",
    "Fz_LF = sol[Fz1]/2\n",
    "Fz_RR = sol[Fz2]/2\n",
    "Fz_LR = sol[Fz2]/2"
   ]
  },
  {
   "cell_type": "code",
   "execution_count": 18,
   "id": "bfade47a",
   "metadata": {},
   "outputs": [],
   "source": [
    "#Camber thurst coefficient = CTC"
   ]
  },
  {
   "cell_type": "code",
   "execution_count": 19,
   "id": "ffba5c53",
   "metadata": {},
   "outputs": [
    {
     "data": {
      "text/latex": [
       "$\\displaystyle \\frac{G L m - G a m - a_{x} h_{cg} m}{2 L}$"
      ],
      "text/plain": [
       "(G*L*m - G*a*m - a_{x}*h_{cg}*m)/(2*L)"
      ]
     },
     "execution_count": 19,
     "metadata": {},
     "output_type": "execute_result"
    }
   ],
   "source": [
    "Fz_RF"
   ]
  },
  {
   "cell_type": "code",
   "execution_count": 20,
   "id": "3c249cbb",
   "metadata": {},
   "outputs": [],
   "source": [
    "Fx_RF = sol[Fx1]/2\n",
    "Fx_LF = sol[Fx1]/2\n",
    "Fx_RR = sol[Fx2]/2\n",
    "Fx_LR = sol[Fx2]/2"
   ]
  },
  {
   "cell_type": "code",
   "execution_count": 21,
   "id": "3190d413",
   "metadata": {},
   "outputs": [
    {
     "data": {
      "text/latex": [
       "$\\displaystyle \\frac{a_{x} m}{4}$"
      ],
      "text/plain": [
       "a_{x}*m/4"
      ]
     },
     "execution_count": 21,
     "metadata": {},
     "output_type": "execute_result"
    }
   ],
   "source": [
    "Fx_RF"
   ]
  },
  {
   "cell_type": "code",
   "execution_count": null,
   "id": "42b922d3",
   "metadata": {},
   "outputs": [],
   "source": []
  },
  {
   "cell_type": "code",
   "execution_count": null,
   "id": "bbbf76d8",
   "metadata": {},
   "outputs": [],
   "source": []
  },
  {
   "cell_type": "code",
   "execution_count": null,
   "id": "c4652bdf",
   "metadata": {},
   "outputs": [],
   "source": []
  },
  {
   "cell_type": "markdown",
   "id": "e68d1b03",
   "metadata": {},
   "source": [
    "Rollover Case"
   ]
  },
  {
   "cell_type": "code",
   "execution_count": 22,
   "id": "54fe11c8",
   "metadata": {},
   "outputs": [],
   "source": [
    "FzL, FzR, = symbols('F_{zL} F_{zR}')"
   ]
  },
  {
   "cell_type": "code",
   "execution_count": 23,
   "id": "279abf00",
   "metadata": {},
   "outputs": [
    {
     "data": {
      "text/latex": [
       "$\\displaystyle F_{zL} + F_{zR}$"
      ],
      "text/plain": [
       "F_{zL} + F_{zR}"
      ]
     },
     "execution_count": 23,
     "metadata": {},
     "output_type": "execute_result"
    }
   ],
   "source": [
    "FzL + FzR"
   ]
  }
 ],
 "metadata": {
  "kernelspec": {
   "display_name": "Python 3 (ipykernel)",
   "language": "python",
   "name": "python3"
  },
  "language_info": {
   "codemirror_mode": {
    "name": "ipython",
    "version": 3
   },
   "file_extension": ".py",
   "mimetype": "text/x-python",
   "name": "python",
   "nbconvert_exporter": "python",
   "pygments_lexer": "ipython3",
   "version": "3.9.12"
  }
 },
 "nbformat": 4,
 "nbformat_minor": 5
}
