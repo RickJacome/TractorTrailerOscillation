{
 "cells": [
  {
   "cell_type": "code",
   "execution_count": 1,
   "id": "e8479246",
   "metadata": {},
   "outputs": [],
   "source": [
    "from sympy import symbols, Eq, solve, expand, simplify"
   ]
  },
  {
   "cell_type": "code",
   "execution_count": 2,
   "id": "6b1530b6",
   "metadata": {},
   "outputs": [],
   "source": [
    "Fx1, Fx2, Fz1, Fz2, = symbols('F_{x1} F_{x2} F_{z1} F_{z2}')\n",
    "L, a, b, hcg = symbols('L, a, b, h_{cg}')\n",
    "m, G = symbols('m, G')\n",
    "ax = symbols('a_{x}')"
   ]
  },
  {
   "cell_type": "code",
   "execution_count": 3,
   "id": "ba161d79",
   "metadata": {},
   "outputs": [
    {
     "data": {
      "text/latex": [
       "$\\displaystyle F_{z1} + F_{z2} - G m = 0$"
      ],
      "text/plain": [
       "Eq(F_{z1} + F_{z2} - G*m, 0)"
      ]
     },
     "execution_count": 3,
     "metadata": {},
     "output_type": "execute_result"
    }
   ],
   "source": [
    "# Vertical Forces\n",
    "eq1 = Eq(Fz1 + Fz2 -  m*G, 0)\n",
    "eq1"
   ]
  },
  {
   "cell_type": "code",
   "execution_count": 4,
   "id": "77f78fa7",
   "metadata": {},
   "outputs": [
    {
     "data": {
      "text/latex": [
       "$\\displaystyle - F_{z2} L + G a m = 0$"
      ],
      "text/plain": [
       "Eq(-F_{z2}*L + G*a*m, 0)"
      ]
     },
     "execution_count": 4,
     "metadata": {},
     "output_type": "execute_result"
    }
   ],
   "source": [
    "# Moments about point of contact for Fz1\n",
    "eq2 = Eq( - Fz2*L +  a*m*G, 0)\n",
    "eq2"
   ]
  },
  {
   "cell_type": "code",
   "execution_count": 5,
   "id": "3837b9c2",
   "metadata": {},
   "outputs": [],
   "source": [
    "solutions = solve([eq1, eq2], [Fz1, Fz2])"
   ]
  },
  {
   "cell_type": "code",
   "execution_count": 6,
   "id": "693e51d0",
   "metadata": {},
   "outputs": [
    {
     "data": {
      "text/latex": [
       "$\\displaystyle G m - \\frac{G a m}{L}$"
      ],
      "text/plain": [
       "G*m - G*a*m/L"
      ]
     },
     "execution_count": 6,
     "metadata": {},
     "output_type": "execute_result"
    }
   ],
   "source": [
    "expand(solutions[Fz1])"
   ]
  },
  {
   "cell_type": "code",
   "execution_count": 7,
   "id": "63f14f39",
   "metadata": {},
   "outputs": [
    {
     "data": {
      "text/latex": [
       "$\\displaystyle \\frac{G a m}{L}$"
      ],
      "text/plain": [
       "G*a*m/L"
      ]
     },
     "execution_count": 7,
     "metadata": {},
     "output_type": "execute_result"
    }
   ],
   "source": [
    "solutions[Fz2]"
   ]
  },
  {
   "cell_type": "markdown",
   "id": "365a330e",
   "metadata": {},
   "source": [
    "Dynamic Case"
   ]
  },
  {
   "cell_type": "code",
   "execution_count": 8,
   "id": "be52b735",
   "metadata": {},
   "outputs": [
    {
     "data": {
      "text/latex": [
       "$\\displaystyle F_{x1} + F_{x2} = a_{x} m$"
      ],
      "text/plain": [
       "Eq(F_{x1} + F_{x2}, a_{x}*m)"
      ]
     },
     "execution_count": 8,
     "metadata": {},
     "output_type": "execute_result"
    }
   ],
   "source": [
    "# Horizontal Forces\n",
    "eq3 = Eq(Fx1 + Fx2 ,  m*ax)\n",
    "eq3"
   ]
  },
  {
   "cell_type": "code",
   "execution_count": 9,
   "id": "2fc6a4d5",
   "metadata": {},
   "outputs": [
    {
     "data": {
      "text/latex": [
       "$\\displaystyle - F_{z2} L + G a m = - a_{x} h_{cg} m$"
      ],
      "text/plain": [
       "Eq(-F_{z2}*L + G*a*m, -a_{x}*h_{cg}*m)"
      ]
     },
     "execution_count": 9,
     "metadata": {},
     "output_type": "execute_result"
    }
   ],
   "source": [
    "# Moments about point of contact for Fz1\n",
    "eq4 = Eq( - Fz2*L +  a*m*G, -m*ax*hcg)\n",
    "eq4"
   ]
  },
  {
   "cell_type": "code",
   "execution_count": 10,
   "id": "74badd5d",
   "metadata": {},
   "outputs": [],
   "source": [
    "# For now\n",
    "eq5 = Eq(Fx1 , Fx2)"
   ]
  },
  {
   "cell_type": "code",
   "execution_count": 11,
   "id": "789fa0a6",
   "metadata": {},
   "outputs": [],
   "source": [
    "sol = solve([eq1, eq3, eq4, eq5], [Fz1, Fz2,Fx1,Fx2])"
   ]
  },
  {
   "cell_type": "code",
   "execution_count": 12,
   "id": "b9e1d443",
   "metadata": {},
   "outputs": [
    {
     "data": {
      "text/plain": [
       "{F_{z1}: (G*L*m - G*a*m - a_{x}*h_{cg}*m)/L,\n",
       " F_{z2}: (G*a*m + a_{x}*h_{cg}*m)/L,\n",
       " F_{x1}: a_{x}*m/2,\n",
       " F_{x2}: a_{x}*m/2}"
      ]
     },
     "execution_count": 12,
     "metadata": {},
     "output_type": "execute_result"
    }
   ],
   "source": [
    "sol"
   ]
  },
  {
   "cell_type": "markdown",
   "id": "57a72f3b",
   "metadata": {},
   "source": [
    "Rollover Case"
   ]
  },
  {
   "cell_type": "code",
   "execution_count": 13,
   "id": "f7604185",
   "metadata": {},
   "outputs": [],
   "source": [
    "FzL, FzR, = symbols('F_{zL} F_{zR}')"
   ]
  },
  {
   "cell_type": "code",
   "execution_count": null,
   "id": "08aa5dff",
   "metadata": {},
   "outputs": [],
   "source": [
    "FzL + FzR"
   ]
  }
 ],
 "metadata": {
  "kernelspec": {
   "display_name": "Python 3 (ipykernel)",
   "language": "python",
   "name": "python3"
  },
  "language_info": {
   "codemirror_mode": {
    "name": "ipython",
    "version": 3
   },
   "file_extension": ".py",
   "mimetype": "text/x-python",
   "name": "python",
   "nbconvert_exporter": "python",
   "pygments_lexer": "ipython3",
   "version": "3.9.12"
  }
 },
 "nbformat": 4,
 "nbformat_minor": 5
}
