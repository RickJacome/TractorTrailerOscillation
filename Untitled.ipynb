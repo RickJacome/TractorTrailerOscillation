{
 "cells": [
  {
   "cell_type": "code",
   "execution_count": 5,
   "id": "e728554d",
   "metadata": {},
   "outputs": [
    {
     "data": {
      "image/png": "[encoded data removed]",
      "text/plain": [
       "<Figure size 432x288 with 1 Axes>"
      ]
     },
     "metadata": {
      "needs_background": "light"
     },
     "output_type": "display_data"
    }
   ],
   "source": [
    "import numpy as np\n",
    "import matplotlib.pyplot as plt\n",
    "import matplotlib.animation as animation\n",
    "import imageio\n",
    "\n",
    "\n",
    "# Parameters for Simple Harmonic Motion\n",
    "amplitude = 1.0  # Amplitude of oscillation\n",
    "frequency = 1.0  # Frequency in Hz\n",
    "phase = 0.0      # Initial phase in radians\n",
    "\n",
    "# Time array\n",
    "t = np.linspace(0, 10, 200) # 10 seconds, 200 data points\n",
    "\n",
    "# Calculate position (x) as a function of time\n",
    "# x(t) = A * sin(2 * pi * f * t + phi)\n",
    "x = amplitude * np.sin(2 * np.pi * frequency * t + phase)\n",
    "\n",
    "# Set up the plot\n",
    "fig, ax = plt.subplots()\n",
    "line, = ax.plot([], [], 'o-', lw=2) # 'o-' for a point and a line\n",
    "ax.set_xlim(-amplitude * 1.5, amplitude * 1.5)\n",
    "ax.set_ylim(-1, 1) # Y-axis can be arbitrary for horizontal motion\n",
    "ax.set_xlabel(\"Position\")\n",
    "ax.set_title(\"Simple Harmonic Motion\")\n",
    "ax.grid(True)\n",
    "\n",
    "# Initialization function: plot the background of each frame\n",
    "def init():\n",
    "    line.set_data([], [])\n",
    "    return line,\n",
    "\n",
    "# Animation function: this is called sequentially\n",
    "def animate(i):\n",
    "    current_x = x[i]\n",
    "    line.set_data(current_x, 0) # Y-coordinate is 0 for horizontal motion\n",
    "    return line,\n",
    "\n",
    "# Create the animation\n",
    "ani = animation.FuncAnimation(fig, animate, frames=len(t),\n",
    "                              init_func=init, blit=True, interval=50)\n",
    "\n",
    "plt.show()\n",
    "ani.save('Simple_Harmonic_Oscillator_v1.gif', writer='pillow')"
   ]
  },
  {
   "cell_type": "code",
   "execution_count": null,
   "id": "c2136bbf",
   "metadata": {},
   "outputs": [],
   "source": []
  }
 ],
 "metadata": {
  "kernelspec": {
   "display_name": "Python 3 (ipykernel)",
   "language": "python",
   "name": "python3"
  },
  "language_info": {
   "codemirror_mode": {
    "name": "ipython",
    "version": 3
   },
   "file_extension": ".py",
   "mimetype": "text/x-python",
   "name": "python",
   "nbconvert_exporter": "python",
   "pygments_lexer": "ipython3",
   "version": "3.9.12"
  }
 },
 "nbformat": 4,
 "nbformat_minor": 5
}
